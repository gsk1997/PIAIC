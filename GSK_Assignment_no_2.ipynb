{
 "cells": [
  {
   "cell_type": "code",
   "execution_count": 5,
   "metadata": {},
   "outputs": [
    {
     "name": "stdout",
     "output_type": "stream",
     "text": [
      "Enter any Thing which you want to buy oil\n",
      "Remaining List : ['Rice', 'Wheat', 'Milk', 'Suger', 'Salt', 'Saop', 'Butter']\n",
      "Buying List : ['Oil']\n"
     ]
    }
   ],
   "source": [
    "Order_list=['Rice','Wheat','Oil','Milk','Suger','Salt','Saop','Butter']\n",
    "Null_list=[]\n",
    "Select=input(\"Enter any Thing which you want to buy \").title()\n",
    "if Select in Order_list:\n",
    "    buy=Order_list.index(Select)\n",
    "    Order_list.pop(buy)\n",
    "    Null_list.append(Select)\n",
    "    print(f\"Remaining List : {Order_list}\")\n",
    "    print(f\"Buying List : {Null_list}\")\n",
    "else:\n",
    "    print(f\"Selection is Incorrect\")"
   ]
  },
  {
   "cell_type": "code",
   "execution_count": null,
   "metadata": {},
   "outputs": [],
   "source": []
  }
 ],
 "metadata": {
  "kernelspec": {
   "display_name": "Python 3",
   "language": "python",
   "name": "python3"
  },
  "language_info": {
   "codemirror_mode": {
    "name": "ipython",
    "version": 3
   },
   "file_extension": ".py",
   "mimetype": "text/x-python",
   "name": "python",
   "nbconvert_exporter": "python",
   "pygments_lexer": "ipython3",
   "version": "3.7.3"
  }
 },
 "nbformat": 4,
 "nbformat_minor": 2
}
