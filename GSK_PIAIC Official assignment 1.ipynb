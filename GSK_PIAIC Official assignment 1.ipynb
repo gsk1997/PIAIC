{
 "cells": [
  {
   "cell_type": "markdown",
   "metadata": {},
   "source": [
    "## 1. Calculate Area of a Circle"
   ]
  },
  {
   "cell_type": "markdown",
   "metadata": {},
   "source": [
    "#### Write a Python program which accepts the radius of a circle from the user and compute the area.\n",
    "###### Program Console Sample Output 1:\n",
    "###### Input Radius: 0.5\n",
    "###### Area of Circle with radius 0.5 is 0.7853981634"
   ]
  },
  {
   "cell_type": "code",
   "execution_count": 1,
   "metadata": {},
   "outputs": [
    {
     "name": "stdout",
     "output_type": "stream",
     "text": [
      "Enter the radius: 0.5\n",
      "The area of radius 0.5 is: 0.785\n"
     ]
    }
   ],
   "source": [
    "rad = float(input(\"Enter the radius: \"))\n",
    "PI = 3.14\n",
    "Area = PI * (rad**2)\n",
    "print (f\"The area of radius {rad} is: {Area}\")"
   ]
  },
  {
   "cell_type": "markdown",
   "metadata": {},
   "source": [
    "## 2. Check Number either positive, negative or zero"
   ]
  },
  {
   "cell_type": "markdown",
   "metadata": {},
   "source": [
    "#### Write a Python program to check if a number is positive, negative or zero\n",
    "###### Program Console Sample Output 1:\n",
    "###### Enter Number: -1\n",
    "##### Negative Number Entered\n",
    "###### Program Console Sample Output 2:\n",
    "##### Integer: 3\n",
    "##### Positive Number Entered\n",
    "###### Program Console Sample Output 3:\n",
    "##### Integer: 0\n",
    "###### Zero Entered"
   ]
  },
  {
   "cell_type": "code",
   "execution_count": 2,
   "metadata": {},
   "outputs": [
    {
     "name": "stdout",
     "output_type": "stream",
     "text": [
      "Enter a number: -1\n",
      "Negative number\n"
     ]
    }
   ],
   "source": [
    "num = float(input(\"Enter a number: \"))\n",
    "if num > 0:\n",
    "   print(\"Positive number\")\n",
    "elif num == 0:\n",
    "   print(\"Zero\")\n",
    "else:\n",
    "   print(\"Negative number\")"
   ]
  },
  {
   "cell_type": "code",
   "execution_count": 5,
   "metadata": {},
   "outputs": [
    {
     "name": "stdout",
     "output_type": "stream",
     "text": [
      "Enter a number: 3\n",
      "Positive number\n"
     ]
    }
   ],
   "source": [
    "num = float(input(\"Enter a number: \"))\n",
    "if num > 0:\n",
    "   print(\"Positive number\")\n",
    "elif num == 0:\n",
    "   print(\"Zero\")\n",
    "else:\n",
    "   print(\"Negative number\")"
   ]
  },
  {
   "cell_type": "code",
   "execution_count": 6,
   "metadata": {},
   "outputs": [
    {
     "name": "stdout",
     "output_type": "stream",
     "text": [
      "Enter a number: 0\n",
      "Zero\n"
     ]
    }
   ],
   "source": [
    "num = float(input(\"Enter a number: \"))\n",
    "if num > 0:\n",
    "   print(\"Positive number\")\n",
    "elif num == 0:\n",
    "   print(\"Zero\")\n",
    "else:\n",
    "   print(\"Negative number\")"
   ]
  },
  {
   "cell_type": "markdown",
   "metadata": {},
   "source": [
    "## 3. Divisibility Check of two numbers"
   ]
  },
  {
   "cell_type": "markdown",
   "metadata": {},
   "source": [
    "#### Write a Python program to check whether a number is completely divisible by another number. Accept two integer values form the user\n",
    "##### Program Console Sample Output 1:\n",
    "###### Enter numerator: 4\n",
    "###### Enter Denominator: 2\n",
    "##### Number 4 is Completely divisible by 2\n",
    "###### Program Console Sample Output 2:\n",
    "##### Enter numerator: 7\n",
    "\n",
    "##### Enter Denominator: 4\n",
    "###### Number 7 is not Completely divisible by 4"
   ]
  },
  {
   "cell_type": "code",
   "execution_count": 3,
   "metadata": {},
   "outputs": [
    {
     "name": "stdout",
     "output_type": "stream",
     "text": [
      "Enter numerator : 4\n",
      "Enter Denominator : 2\n",
      "Number 4 is completely divisible by 2 \n"
     ]
    }
   ],
   "source": [
    "num1 = int(input(\"Enter numerator : \"))\n",
    "num2 = int(input(\"Enter Denominator : \"))\n",
    "if num1%num2 == 0:\n",
    "    print (f\"Number {num1} is completely divisible by {num2} \")\n",
    "else:\n",
    "    print (\"Numbers are not completely divisible\")"
   ]
  },
  {
   "cell_type": "code",
   "execution_count": 4,
   "metadata": {},
   "outputs": [
    {
     "name": "stdout",
     "output_type": "stream",
     "text": [
      "Enter numerator : 7\n",
      "Enter Denominator : 4\n",
      "Numbers are not completely divisible\n"
     ]
    }
   ],
   "source": [
    "num1 = int(input(\"Enter numerator : \"))\n",
    "num2 = int(input(\"Enter Denominator : \"))\n",
    "if num1%num2 == 0:\n",
    "    print (f\"Number {num1} is completely divisible by {num2} \")\n",
    "else:\n",
    "    print (\"Numbers are not completely divisible\")"
   ]
  },
  {
   "cell_type": "markdown",
   "metadata": {},
   "source": [
    "## 4. Calculate Volume of a sphere"
   ]
  },
  {
   "cell_type": "markdown",
   "metadata": {},
   "source": [
    "##### Write a Python program to get the volume of a sphere, please take the radius as input from user"
   ]
  },
  {
   "cell_type": "markdown",
   "metadata": {},
   "source": [
    "##### Program Console Output:\n",
    "##### Enter Radius of Sphere: 1\n",
    "###### Volume of the Sphere with Radius 1 is 4.18"
   ]
  },
  {
   "cell_type": "code",
   "execution_count": 8,
   "metadata": {},
   "outputs": [
    {
     "name": "stdout",
     "output_type": "stream",
     "text": [
      "Enter the radius: 1\n",
      "The volume of a sphere 1.0 is: 4.1866666666666665\n"
     ]
    }
   ],
   "source": [
    "rad = float(input(\"Enter the radius: \"))\n",
    "PI = 3.14\n",
    "a=4/3\n",
    "volume = a* PI * (rad**3)\n",
    "print (f\"The volume of a sphere {rad} is: {volume}\")"
   ]
  },
  {
   "cell_type": "markdown",
   "metadata": {},
   "source": [
    "## 5. Copy string n times\n",
    "#### Write a Python program to get a string which is n (non-negative integer) copies of a given string.\n",
    "##### Program Console Output:\n",
    "##### Enter String: Hi\n",
    "###### How many copies of String you need: 4\n",
    "###### 4 Copies of Hi are HiHiHiHi"
   ]
  },
  {
   "cell_type": "code",
   "execution_count": 17,
   "metadata": {},
   "outputs": [
    {
     "name": "stdout",
     "output_type": "stream",
     "text": [
      "Enter String : Hi\n",
      "How many copies of String you need :4\n",
      "How many copies of String you need : HiHiHiHi \n"
     ]
    }
   ],
   "source": [
    "a= input(\"Enter String : \")\n",
    "b=int(input(\"How many copies of String you need :\"))\n",
    "c=a* b\n",
    "print(f\"How many copies of String you need : {c} \")"
   ]
  },
  {
   "cell_type": "markdown",
   "metadata": {},
   "source": [
    "## 6. Check if number is Even or Odd\n",
    "### Write a Python program to find whether a given number (accept from the user) is even or odd, print out an appropriate message to the user\n",
    "#### Program Console Output 1:\n",
    "##### Enter Number: 4\n",
    "###### 4 is Even\n",
    "#### Program Console Output 2:\n",
    "##### Enter Number: 9\n",
    "###### 9 is Odd"
   ]
  },
  {
   "cell_type": "code",
   "execution_count": 9,
   "metadata": {},
   "outputs": [
    {
     "name": "stdout",
     "output_type": "stream",
     "text": [
      "Enter a Number4\n",
      "4 is even\n"
     ]
    }
   ],
   "source": [
    "a=int(input(\"Enter a Number\"))\n",
    "if a%2==0:\n",
    "    print(f\"{a} is even\")\n",
    "else:\n",
    "    print(f\"{a} is odd\")"
   ]
  },
  {
   "cell_type": "code",
   "execution_count": 10,
   "metadata": {},
   "outputs": [
    {
     "name": "stdout",
     "output_type": "stream",
     "text": [
      "Enter a Number9\n",
      "9 is odd\n"
     ]
    }
   ],
   "source": [
    "a=int(input(\"Enter a Number\"))\n",
    "if a%2==0:\n",
    "    print(f\"{a} is even\")\n",
    "else:\n",
    "    print(f\"{a} is odd\")"
   ]
  },
  {
   "cell_type": "markdown",
   "metadata": {},
   "source": [
    " ## 7. Vowel Tester\n",
    " ### Write a Python program to test whether a passed letter is a vowel or not\n",
    " #### Program Console Output 1:\n",
    " #### Enter a character: A\n",
    " #### Letter A is Vowel\n",
    " #### Program Console Output 2:\n",
    " #### Enter a character: e\n",
    " #### Letter e is Vowel\n",
    " #### Program Console Output 2:\n",
    " #### Enter a character: N\n",
    " #### Letter N is not Vowel"
   ]
  },
  {
   "cell_type": "code",
   "execution_count": 13,
   "metadata": {},
   "outputs": [
    {
     "name": "stdout",
     "output_type": "stream",
     "text": [
      "Enter a Alphabet : A\n",
      "Letter A is Vowel\n"
     ]
    }
   ],
   "source": [
    "v=input(\"Enter a Alphabet : \")\n",
    "if v == 'a' or v =='e' or v =='i' or v =='o' or v =='u' or v == 'A' or v =='E' or v =='I' or v =='O' or v =='U':\n",
    "    print(f\"Letter {v} is Vowel\")\n",
    "else:\n",
    "    print(f\"Letter {v} is not Vowel\")"
   ]
  },
  {
   "cell_type": "code",
   "execution_count": 14,
   "metadata": {},
   "outputs": [
    {
     "name": "stdout",
     "output_type": "stream",
     "text": [
      "Enter a Alphabet : e\n",
      "Letter e is Vowel\n"
     ]
    }
   ],
   "source": [
    "v=input(\"Enter a Alphabet : \")\n",
    "if v == 'a' or v =='e' or v =='i' or v =='o' or v =='u' or v == 'A' or v =='E' or v =='I' or v =='O' or v =='U':\n",
    "    print(f\"Letter {v} is Vowel\")\n",
    "else:\n",
    "    print(f\"Letter {v} is not Vowel\")"
   ]
  },
  {
   "cell_type": "code",
   "execution_count": 15,
   "metadata": {},
   "outputs": [
    {
     "name": "stdout",
     "output_type": "stream",
     "text": [
      "Enter a Alphabet : N\n",
      "Letter N is not Vowel\n"
     ]
    }
   ],
   "source": [
    "v=input(\"Enter a Alphabet : \")\n",
    "if v == 'a' or v =='e' or v =='i' or v =='o' or v =='u' or v == 'A' or v =='E' or v =='I' or v =='O' or v =='U':\n",
    "    print(f\"Letter {v} is Vowel\")\n",
    "else:\n",
    "    print(f\"Letter {v} is not Vowel\")"
   ]
  },
  {
   "cell_type": "markdown",
   "metadata": {},
   "source": [
    "## 8. Triangle area\n",
    "### Write a Python program that will accept the base and height of a triangle and compute the area\n",
    "###### Reference:\n",
    "https://www.mathgoodies.com/lessons/vol1/area_triangle"
   ]
  },
  {
   "cell_type": "code",
   "execution_count": 1,
   "metadata": {},
   "outputs": [
    {
     "name": "stdout",
     "output_type": "stream",
     "text": [
      "Enter base : 2\n",
      "Enter height : 3\n",
      "the area of triangle : 3.0 \n"
     ]
    }
   ],
   "source": [
    "b = int(input(\"Enter base : \"))\n",
    "h = int(input(\"Enter height : \"))\n",
    "a= b*h/2\n",
    "print(f\"the area of triangle : {a} \")"
   ]
  },
  {
   "cell_type": "markdown",
   "metadata": {},
   "source": [
    "## 9. Calculate Interest\n",
    "### Write a Python program to compute the future value of a specified principal amount, rate of interest, and a number of years\n",
    "#### Program Console Sample 1:\n",
    "##### Please enter principal amount: 10000\n",
    "###### Please Enter Rate of interest in %: 0.1\n",
    "###### Enter number of years for investment: 5\n",
    "###### After 5 years your principal amount 10000 over an interest rate of 0.1 % will be 16105.1"
   ]
  },
  {
   "cell_type": "code",
   "execution_count": 16,
   "metadata": {},
   "outputs": [
    {
     "name": "stdout",
     "output_type": "stream",
     "text": [
      "Please Enter Principal amount: 10000\n",
      "Please Enter Rate of Interest: 0.1\n",
      "Please Enter number of years for investment: 5\n",
      "\n",
      "After 5 years your principal amount 10000 over an interest rate of 0.1 % will be 16105.1\n"
     ]
    }
   ],
   "source": [
    "a = int(input('Please Enter Principal amount: '))\n",
    "i = float(input('Please Enter Rate of Interest: '))\n",
    "y = int(input('Please Enter number of years for investment: '))\n",
    "\n",
    "r = i *100   \n",
    "x = a * ((1 + (r/100)) ** y)\n",
    "x = round(x,2)\n",
    "print(f'\\nAfter {y} years your principal amount {a} over an interest rate of {i} % will be {x}')"
   ]
  },
  {
   "cell_type": "markdown",
   "metadata": {},
   "source": [
    "## 10. Euclidean distance\n",
    "### write a Python program to compute the distance between the points (x1, y1) and (x2, y2).\n",
    "#### Program Console Sample 1:\n",
    "###### Enter Co-ordinate for x1: 2\n",
    "###### Enter Co-ordinate for x2: 4\n",
    "###### Enter Co-ordinate for y1: 4\n",
    "###### Enter Co-ordinate for y2: 4\n",
    "###### Distance between points (2, 4) and (4, 4) is 2"
   ]
  },
  {
   "cell_type": "markdown",
   "metadata": {},
   "source": [
    "###### Reference:\n",
    "https://en.wikipedia.org/wiki/Euclidean_distance"
   ]
  },
  {
   "cell_type": "code",
   "execution_count": 18,
   "metadata": {},
   "outputs": [
    {
     "name": "stdout",
     "output_type": "stream",
     "text": [
      "Enter Co-ordinate for x1: 2\n",
      "Enter Co-ordinate for x2: 4\n",
      "Enter Co-ordinate for y1: 4\n",
      "Enter Co-ordinate for y2: 4\n",
      "\n",
      "The distance between points (2, 4) and (4, 4) is: 2\n"
     ]
    }
   ],
   "source": [
    "x1 = int(input('Enter Co-ordinate for x1: '))\n",
    "x2 = int(input('Enter Co-ordinate for x2: '))\n",
    "y1 = int(input('Enter Co-ordinate for y1: '))\n",
    "y2 = int(input('Enter Co-ordinate for y2: '))\n",
    "\n",
    "d = ((y1-x1)**2 + (y2-x2)**2)**.5  \n",
    "distance = round(d,)\n",
    "print(f'\\nThe distance between points {x1,y1} and {x2,y2} is: {distance}')"
   ]
  },
  {
   "cell_type": "markdown",
   "metadata": {},
   "source": [
    "## 11. Feet to Centimeter Converter\n",
    "### Write a Python program to convert height in feet to centimetres.\n",
    "##### Program Console Sample 1:\n",
    "###### Enter Height in Feet: 5\n",
    "###### There are 152.4 Cm in 5 ft\n",
    "###### Reference:\n",
    "https://www.rapidtables.com/convert/length/feet-to-cm.html"
   ]
  },
  {
   "cell_type": "code",
   "execution_count": 12,
   "metadata": {},
   "outputs": [
    {
     "name": "stdout",
     "output_type": "stream",
     "text": [
      "Enter Height in feet : 5\n",
      "the are 152.4 cm in 5 ft \n"
     ]
    }
   ],
   "source": [
    "b = int(input(\"Enter Height in feet : \"))\n",
    "a= b*30.48 \n",
    "print(f\"the are {a} cm in {b} ft \")"
   ]
  },
  {
   "cell_type": "markdown",
   "metadata": {},
   "source": [
    "## 12. BMI Calculator\n",
    "### Write a Python program to calculate body mass index\n",
    "##### Program Console Sample 1:\n",
    "###### Enter Height in Cm: 180\n",
    "###### Enter Weight in Kg: 75\n",
    "###### Your BMI is 23.15"
   ]
  },
  {
   "cell_type": "code",
   "execution_count": 20,
   "metadata": {},
   "outputs": [
    {
     "name": "stdout",
     "output_type": "stream",
     "text": [
      "Enter Height : 180\n",
      "Enter Weight : 75\n",
      "the area of triangle : 23.148148148148145 \n"
     ]
    }
   ],
   "source": [
    "h = int(input(\"Enter Height : \"))\n",
    "w = int(input(\"Enter Weight : \"))\n",
    "c=h/100\n",
    "b= w/(c*c)\n",
    "print(f\"Yor BMI is : {b} \")"
   ]
  },
  {
   "cell_type": "markdown",
   "metadata": {},
   "source": [
    "## 13. Sum of n Positive Integers\n",
    "### Write a python program to sum of the first n positive integers\n",
    "#### Program Console Sample 1:\n",
    "###### Enter value of n: 5\n",
    "###### Sum of n Positive integers till 5 is 15"
   ]
  },
  {
   "cell_type": "code",
   "execution_count": 23,
   "metadata": {},
   "outputs": [
    {
     "name": "stdout",
     "output_type": "stream",
     "text": [
      "Enter value of n : 5\n",
      "Sum of n Positive Integer till 5 is 15.0\n"
     ]
    }
   ],
   "source": [
    "num = int(input(\"Enter value of n : \"))\n",
    "sum = (num * (num + 1)) / 2\n",
    "print(f\"Sum of n Positive Integer till {num} is {sum}\")"
   ]
  },
  {
   "cell_type": "markdown",
   "metadata": {},
   "source": [
    "## 14. Digits Sum of a Number\n",
    "### Write a Python program to calculate the sum of the digits in an integer\n",
    "#### Program Console Sample 1:\n",
    "##### Enter a number: 15\n",
    "###### Sum of 1 + 5 is 6\n",
    "#### Program Console Sample 2:\n",
    "##### Enter a number: 1234\n",
    "###### Sum of 1 + 2 + 3 + 4 is 10"
   ]
  },
  {
   "cell_type": "code",
   "execution_count": 30,
   "metadata": {},
   "outputs": [
    {
     "name": "stdout",
     "output_type": "stream",
     "text": [
      "Input a numbers: 15\n",
      "Sum of number is 6\n"
     ]
    }
   ],
   "source": [
    "num = int(input(\"Input a numbers: \"))\n",
    "a  = num //1000\n",
    "b = (num - a*1000)//100\n",
    "c = (num - a*1000 - b*100)//10\n",
    "d = num - a*1000 - b*100 - c*10\n",
    "print(f\"Sum of number is\", a+b+c+d)"
   ]
  },
  {
   "cell_type": "code",
   "execution_count": 31,
   "metadata": {},
   "outputs": [
    {
     "name": "stdout",
     "output_type": "stream",
     "text": [
      "Input a numbers: 1234\n",
      "Sum of number is 10\n"
     ]
    }
   ],
   "source": [
    "num = int(input(\"Input a numbers: \"))\n",
    "a  = num //1000\n",
    "b = (num - a*1000)//100\n",
    "c = (num - a*1000 - b*100)//10\n",
    "d = num - a*1000 - b*100 - c*10\n",
    "print(f\"Sum of number is\", a+b+c+d)"
   ]
  }
 ],
 "metadata": {
  "kernelspec": {
   "display_name": "Python 3",
   "language": "python",
   "name": "python3"
  },
  "language_info": {
   "codemirror_mode": {
    "name": "ipython",
    "version": 3
   },
   "file_extension": ".py",
   "mimetype": "text/x-python",
   "name": "python",
   "nbconvert_exporter": "python",
   "pygments_lexer": "ipython3",
   "version": "3.7.3"
  }
 },
 "nbformat": 4,
 "nbformat_minor": 2
}
